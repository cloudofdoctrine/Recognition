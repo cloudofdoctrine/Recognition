{
 "cells": [
  {
   "cell_type": "markdown",
   "metadata": {},
   "source": [
    "# Project Litmus (pH)\n",
    "\n",
    "This workbook provides the template for the final project. \n",
    "\n",
    "## Instructions\n",
    "- Work individually or in pairs\n",
    "- Each team is to complete 1 copy of this template.\n",
    "  - Complete all sections.\n",
    "  - Feel free to include supporting material / slides / documents as needed.\n",
    "- At the end of the project, you will get 15 minutes to present this workbook to the class.\n",
    "\n",
    "### Submission Instructions\n",
    "- Submit the .ipynb with the Output cells showing the results\n",
    "  - Naming convention:\n",
    "  ```\n",
    "      <name1>-<name2>-<project_short_name>.ipynb\n",
    "  ```\n",
    "- If you provide your own datasets, include the data with your .ipynb"
   ]
  },
  {
   "cell_type": "code",
   "execution_count": null,
   "metadata": {},
   "outputs": [],
   "source": [
    "grade = {'Project Goals and Plan (5)': 5,\n",
    "     'Data Preparation and Feature Selection (10)': 10,\n",
    "     'Training and Evaluation (20)': 20, # Good use of PCA feature reduction techniques\n",
    "     'Observations and Analysis (10)': 9, # this is a project that will benefit from\n",
    "                                          # a lot more data, as you seem to be underfitting\n",
    "                                          # the classifier. Good effort!\n",
    "     'Presentation (5)': 5} # Good use of slides to provide the background for this project\n",
    "\n",
    "total_grade = sum(grade.values())\n",
    "print(total_grade)\n",
    "\n",
    "if total_grade > 30:\n",
    "    print('Passed, Good job!')"
   ]
  },
  {
   "cell_type": "code",
   "execution_count": null,
   "metadata": {},
   "outputs": [],
   "source": []
  },
  {
   "cell_type": "markdown",
   "metadata": {},
   "source": [
    "## Section 0: Team Members\n",
    "- Edwin\n",
    "- Shabeena"
   ]
  },
  {
   "cell_type": "markdown",
   "metadata": {},
   "source": [
    "## Section 1: Project Litmus (pH)\n",
    "\n",
    "- Prediciting the scanned image quality"
   ]
  },
  {
   "cell_type": "markdown",
   "metadata": {},
   "source": [
    "## Section 2: Project Definition\n",
    "\n",
    "### Goals\n",
    "\n",
    "Describe the goal of this project.\n",
    "\n",
    "1. To train a classifer which is able to identify which class a scanned image is. Background defect, General defect and Good image\n",
    "\n",
    "Important:\n",
    "- If this is your first project, keep the project definition as simple as possible. \n",
    "- As a rule of thumb, pick something that can be completed in 2-3 days. There is always more you can add to it if you finish early. \n",
    "- If you are not sure, use the workshop problems as a reference.\n",
    "\n",
    "### Dataset\n",
    "\n",
    "Briefly describe the source(s) of data you are using.\n",
    "Data collected from the manual scan of the images\n",
    "\n",
    "#### Format: jpg\n",
    "\n",
    "#### Columns:\n",
    " \n",
    "|Name|Type|Unit of Measure|Description|\n",
    "|--|--|--|--|\n",
    "|month|Datetime, YYYY-MM|none|date range: Jan 1, 2010 to Mar 31, 2018|\n",
    "|bidding_no|Numeric|No. of Bids|Number of Bids|\n",
    "|vehicle_class|Text|none|Vehicle category: A to E|\n",
    "|quota|Numeric|No. of Bids|Number of Quota|\n",
    "|bids_success|Numeric|No. of Bids|Number of Successful Bids|\n",
    "|bids_received|Numeric|No. of Bids|Number of Bids Received|\n",
    "|premium|Numeric|S$|COE premium|\n",
    "\n",
    "### Tasks\n",
    "\n",
    "List the tasks you will perform. \n",
    "\n",
    "Example:\n",
    " \n",
    "1. Process the dataset to convert strings into labels.\n",
    "2. Shuffle and split into train and test sets\n",
    "3. Train a clustering algorithm, using Gaussian Mixture Model with 5 components, where each component is a vehicle category.\n",
    "4. Compute the metrics for the algorithm.\n",
    "5. Perform analysis for possible improvements."
   ]
  },
  {
   "cell_type": "markdown",
   "metadata": {},
   "source": [
    "## Section 3: Prepare Dataset\n",
    "\n",
    "Write your code below to prepare the dataset using pandas"
   ]
  },
  {
   "cell_type": "code",
   "execution_count": 1,
   "metadata": {},
   "outputs": [],
   "source": [
    "# Update to set the path of your dataset\n",
    "# You can use an absolute path (e.g. 'D:/tmp/data') or a relative path\n",
    "dataset_path='C:/courses/mldds-courseware/Projects/Litmas pH project/Cleaned up'"
   ]
  },
  {
   "cell_type": "code",
   "execution_count": null,
   "metadata": {},
   "outputs": [],
   "source": []
  },
  {
   "cell_type": "code",
   "execution_count": null,
   "metadata": {},
   "outputs": [],
   "source": []
  },
  {
   "cell_type": "markdown",
   "metadata": {},
   "source": [
    "# Data Augmentation"
   ]
  },
  {
   "cell_type": "code",
   "execution_count": 2,
   "metadata": {},
   "outputs": [
    {
     "name": "stderr",
     "output_type": "stream",
     "text": [
      "Using TensorFlow backend.\n"
     ]
    },
    {
     "name": "stdout",
     "output_type": "stream",
     "text": [
      "Found 205 images belonging to 3 classes.\n"
     ]
    },
    {
     "name": "stderr",
     "output_type": "stream",
     "text": [
      "Clipping input data to the valid range for imshow with RGB data ([0..1] for floats or [0..255] for integers).\n"
     ]
    },
    {
     "data": {
      "text/plain": [
       "<Figure size 640x480 with 1 Axes>"
      ]
     },
     "metadata": {},
     "output_type": "display_data"
    },
    {
     "name": "stderr",
     "output_type": "stream",
     "text": [
      "Clipping input data to the valid range for imshow with RGB data ([0..1] for floats or [0..255] for integers).\n"
     ]
    },
    {
     "data": {
      "text/plain": [
       "<Figure size 640x480 with 1 Axes>"
      ]
     },
     "metadata": {},
     "output_type": "display_data"
    }
   ],
   "source": [
    "# https://keras.io/preprocessing/image/#imagedatagenerator-class\n",
    "import matplotlib.pyplot as plt\n",
    "import numpy as np\n",
    "from keras.applications.mobilenet import preprocess_input\n",
    "from keras.preprocessing.image import ImageDataGenerator\n",
    "\n",
    "# 160x160 matches one of the sizes supported by MobileNet\n",
    "# (the neural network we'll transfer learn from)\n",
    "img_height = img_width = 160\n",
    "channels = 3\n",
    "\n",
    "\n",
    "#no rescale\n",
    "datagen = ImageDataGenerator(rotation_range=45,\n",
    "                            zoom_range=.2,\n",
    "                            preprocessing_function=preprocess_input)\n",
    "\n",
    "# generate image data from the training set\n",
    "generator = datagen.flow_from_directory(dataset_path,\n",
    "                                        color_mode='rgb',\n",
    "                                        target_size=(img_height, img_width),\n",
    "                                        batch_size=200,\n",
    "                                        class_mode='categorical',\n",
    "                                        shuffle=True)\n",
    "\n",
    "X_dataset, y_dataset = next(generator) # gets 1 batch of 45 images\n",
    "\n",
    "# display some images\n",
    "#y[0] -->nbr\n",
    "x, y = next(generator)\n",
    "plt.imshow(x[0])\n",
    "plt.title(y[0])\n",
    "plt.show()\n",
    "\n",
    "x, y = next(generator)\n",
    "plt.imshow(x[0])\n",
    "plt.title(y[0])\n",
    "plt.show()"
   ]
  },
  {
   "cell_type": "code",
   "execution_count": 3,
   "metadata": {},
   "outputs": [
    {
     "data": {
      "text/plain": [
       "(200, 160, 160, 3)"
      ]
     },
     "execution_count": 3,
     "metadata": {},
     "output_type": "execute_result"
    }
   ],
   "source": [
    "X_dataset.shape"
   ]
  },
  {
   "cell_type": "markdown",
   "metadata": {},
   "source": [
    "## Section 4: Select Features\n",
    "\n",
    "Write your code below to create X_train, X_test, y_train, y_test"
   ]
  },
  {
   "cell_type": "code",
   "execution_count": 4,
   "metadata": {},
   "outputs": [
    {
     "name": "stdout",
     "output_type": "stream",
     "text": [
      "(150, 160, 160, 3)\n"
     ]
    }
   ],
   "source": [
    "#Split datasets into train, test, validate\n",
    "\n",
    "from sklearn.model_selection import train_test_split\n",
    "from sklearn.metrics import classification_report\n",
    " \n",
    "(X_train, X_test, Y_train, Y_test) = train_test_split(X_dataset, y_dataset , random_state=42)\n",
    "\n",
    "print(X_train.shape)"
   ]
  },
  {
   "cell_type": "code",
   "execution_count": null,
   "metadata": {},
   "outputs": [],
   "source": []
  },
  {
   "cell_type": "markdown",
   "metadata": {},
   "source": [
    "## Section 5: Train the algorithm(s)\n",
    "\n",
    "Write your code below to initialize and train the algorithm(s)"
   ]
  },
  {
   "cell_type": "markdown",
   "metadata": {},
   "source": [
    "# Convoluted Network (MobileNet) v.s. SVM"
   ]
  },
  {
   "cell_type": "markdown",
   "metadata": {},
   "source": [
    "# Section A (MobileNet)"
   ]
  },
  {
   "cell_type": "code",
   "execution_count": 5,
   "metadata": {},
   "outputs": [
    {
     "name": "stdout",
     "output_type": "stream",
     "text": [
      "_________________________________________________________________\n",
      "Layer (type)                 Output Shape              Param #   \n",
      "=================================================================\n",
      "input_1 (InputLayer)         (None, 160, 160, 3)       0         \n",
      "_________________________________________________________________\n",
      "conv1_pad (ZeroPadding2D)    (None, 162, 162, 3)       0         \n",
      "_________________________________________________________________\n",
      "conv1 (Conv2D)               (None, 80, 80, 32)        864       \n",
      "_________________________________________________________________\n",
      "conv1_bn (BatchNormalization (None, 80, 80, 32)        128       \n",
      "_________________________________________________________________\n",
      "conv1_relu (Activation)      (None, 80, 80, 32)        0         \n",
      "_________________________________________________________________\n",
      "conv_pad_1 (ZeroPadding2D)   (None, 82, 82, 32)        0         \n",
      "_________________________________________________________________\n",
      "conv_dw_1 (DepthwiseConv2D)  (None, 80, 80, 32)        288       \n",
      "_________________________________________________________________\n",
      "conv_dw_1_bn (BatchNormaliza (None, 80, 80, 32)        128       \n",
      "_________________________________________________________________\n",
      "conv_dw_1_relu (Activation)  (None, 80, 80, 32)        0         \n",
      "_________________________________________________________________\n",
      "conv_pw_1 (Conv2D)           (None, 80, 80, 64)        2048      \n",
      "_________________________________________________________________\n",
      "conv_pw_1_bn (BatchNormaliza (None, 80, 80, 64)        256       \n",
      "_________________________________________________________________\n",
      "conv_pw_1_relu (Activation)  (None, 80, 80, 64)        0         \n",
      "_________________________________________________________________\n",
      "conv_pad_2 (ZeroPadding2D)   (None, 82, 82, 64)        0         \n",
      "_________________________________________________________________\n",
      "conv_dw_2 (DepthwiseConv2D)  (None, 40, 40, 64)        576       \n",
      "_________________________________________________________________\n",
      "conv_dw_2_bn (BatchNormaliza (None, 40, 40, 64)        256       \n",
      "_________________________________________________________________\n",
      "conv_dw_2_relu (Activation)  (None, 40, 40, 64)        0         \n",
      "_________________________________________________________________\n",
      "conv_pw_2 (Conv2D)           (None, 40, 40, 128)       8192      \n",
      "_________________________________________________________________\n",
      "conv_pw_2_bn (BatchNormaliza (None, 40, 40, 128)       512       \n",
      "_________________________________________________________________\n",
      "conv_pw_2_relu (Activation)  (None, 40, 40, 128)       0         \n",
      "_________________________________________________________________\n",
      "conv_pad_3 (ZeroPadding2D)   (None, 42, 42, 128)       0         \n",
      "_________________________________________________________________\n",
      "conv_dw_3 (DepthwiseConv2D)  (None, 40, 40, 128)       1152      \n",
      "_________________________________________________________________\n",
      "conv_dw_3_bn (BatchNormaliza (None, 40, 40, 128)       512       \n",
      "_________________________________________________________________\n",
      "conv_dw_3_relu (Activation)  (None, 40, 40, 128)       0         \n",
      "_________________________________________________________________\n",
      "conv_pw_3 (Conv2D)           (None, 40, 40, 128)       16384     \n",
      "_________________________________________________________________\n",
      "conv_pw_3_bn (BatchNormaliza (None, 40, 40, 128)       512       \n",
      "_________________________________________________________________\n",
      "conv_pw_3_relu (Activation)  (None, 40, 40, 128)       0         \n",
      "_________________________________________________________________\n",
      "conv_pad_4 (ZeroPadding2D)   (None, 42, 42, 128)       0         \n",
      "_________________________________________________________________\n",
      "conv_dw_4 (DepthwiseConv2D)  (None, 20, 20, 128)       1152      \n",
      "_________________________________________________________________\n",
      "conv_dw_4_bn (BatchNormaliza (None, 20, 20, 128)       512       \n",
      "_________________________________________________________________\n",
      "conv_dw_4_relu (Activation)  (None, 20, 20, 128)       0         \n",
      "_________________________________________________________________\n",
      "conv_pw_4 (Conv2D)           (None, 20, 20, 256)       32768     \n",
      "_________________________________________________________________\n",
      "conv_pw_4_bn (BatchNormaliza (None, 20, 20, 256)       1024      \n",
      "_________________________________________________________________\n",
      "conv_pw_4_relu (Activation)  (None, 20, 20, 256)       0         \n",
      "_________________________________________________________________\n",
      "conv_pad_5 (ZeroPadding2D)   (None, 22, 22, 256)       0         \n",
      "_________________________________________________________________\n",
      "conv_dw_5 (DepthwiseConv2D)  (None, 20, 20, 256)       2304      \n",
      "_________________________________________________________________\n",
      "conv_dw_5_bn (BatchNormaliza (None, 20, 20, 256)       1024      \n",
      "_________________________________________________________________\n",
      "conv_dw_5_relu (Activation)  (None, 20, 20, 256)       0         \n",
      "_________________________________________________________________\n",
      "conv_pw_5 (Conv2D)           (None, 20, 20, 256)       65536     \n",
      "_________________________________________________________________\n",
      "conv_pw_5_bn (BatchNormaliza (None, 20, 20, 256)       1024      \n",
      "_________________________________________________________________\n",
      "conv_pw_5_relu (Activation)  (None, 20, 20, 256)       0         \n",
      "_________________________________________________________________\n",
      "conv_pad_6 (ZeroPadding2D)   (None, 22, 22, 256)       0         \n",
      "_________________________________________________________________\n",
      "conv_dw_6 (DepthwiseConv2D)  (None, 10, 10, 256)       2304      \n",
      "_________________________________________________________________\n",
      "conv_dw_6_bn (BatchNormaliza (None, 10, 10, 256)       1024      \n",
      "_________________________________________________________________\n",
      "conv_dw_6_relu (Activation)  (None, 10, 10, 256)       0         \n",
      "_________________________________________________________________\n",
      "conv_pw_6 (Conv2D)           (None, 10, 10, 512)       131072    \n",
      "_________________________________________________________________\n",
      "conv_pw_6_bn (BatchNormaliza (None, 10, 10, 512)       2048      \n",
      "_________________________________________________________________\n",
      "conv_pw_6_relu (Activation)  (None, 10, 10, 512)       0         \n",
      "_________________________________________________________________\n",
      "conv_pad_7 (ZeroPadding2D)   (None, 12, 12, 512)       0         \n",
      "_________________________________________________________________\n",
      "conv_dw_7 (DepthwiseConv2D)  (None, 10, 10, 512)       4608      \n",
      "_________________________________________________________________\n",
      "conv_dw_7_bn (BatchNormaliza (None, 10, 10, 512)       2048      \n",
      "_________________________________________________________________\n",
      "conv_dw_7_relu (Activation)  (None, 10, 10, 512)       0         \n",
      "_________________________________________________________________\n",
      "conv_pw_7 (Conv2D)           (None, 10, 10, 512)       262144    \n",
      "_________________________________________________________________\n",
      "conv_pw_7_bn (BatchNormaliza (None, 10, 10, 512)       2048      \n",
      "_________________________________________________________________\n",
      "conv_pw_7_relu (Activation)  (None, 10, 10, 512)       0         \n",
      "_________________________________________________________________\n",
      "conv_pad_8 (ZeroPadding2D)   (None, 12, 12, 512)       0         \n",
      "_________________________________________________________________\n",
      "conv_dw_8 (DepthwiseConv2D)  (None, 10, 10, 512)       4608      \n",
      "_________________________________________________________________\n",
      "conv_dw_8_bn (BatchNormaliza (None, 10, 10, 512)       2048      \n",
      "_________________________________________________________________\n",
      "conv_dw_8_relu (Activation)  (None, 10, 10, 512)       0         \n",
      "_________________________________________________________________\n",
      "conv_pw_8 (Conv2D)           (None, 10, 10, 512)       262144    \n",
      "_________________________________________________________________\n",
      "conv_pw_8_bn (BatchNormaliza (None, 10, 10, 512)       2048      \n",
      "_________________________________________________________________\n",
      "conv_pw_8_relu (Activation)  (None, 10, 10, 512)       0         \n",
      "_________________________________________________________________\n",
      "conv_pad_9 (ZeroPadding2D)   (None, 12, 12, 512)       0         \n",
      "_________________________________________________________________\n",
      "conv_dw_9 (DepthwiseConv2D)  (None, 10, 10, 512)       4608      \n",
      "_________________________________________________________________\n",
      "conv_dw_9_bn (BatchNormaliza (None, 10, 10, 512)       2048      \n",
      "_________________________________________________________________\n",
      "conv_dw_9_relu (Activation)  (None, 10, 10, 512)       0         \n",
      "_________________________________________________________________\n",
      "conv_pw_9 (Conv2D)           (None, 10, 10, 512)       262144    \n",
      "_________________________________________________________________\n",
      "conv_pw_9_bn (BatchNormaliza (None, 10, 10, 512)       2048      \n",
      "_________________________________________________________________\n",
      "conv_pw_9_relu (Activation)  (None, 10, 10, 512)       0         \n",
      "_________________________________________________________________\n",
      "conv_pad_10 (ZeroPadding2D)  (None, 12, 12, 512)       0         \n",
      "_________________________________________________________________\n",
      "conv_dw_10 (DepthwiseConv2D) (None, 10, 10, 512)       4608      \n",
      "_________________________________________________________________\n",
      "conv_dw_10_bn (BatchNormaliz (None, 10, 10, 512)       2048      \n",
      "_________________________________________________________________\n",
      "conv_dw_10_relu (Activation) (None, 10, 10, 512)       0         \n",
      "_________________________________________________________________\n",
      "conv_pw_10 (Conv2D)          (None, 10, 10, 512)       262144    \n",
      "_________________________________________________________________\n",
      "conv_pw_10_bn (BatchNormaliz (None, 10, 10, 512)       2048      \n",
      "_________________________________________________________________\n",
      "conv_pw_10_relu (Activation) (None, 10, 10, 512)       0         \n",
      "_________________________________________________________________\n",
      "conv_pad_11 (ZeroPadding2D)  (None, 12, 12, 512)       0         \n",
      "_________________________________________________________________\n",
      "conv_dw_11 (DepthwiseConv2D) (None, 10, 10, 512)       4608      \n",
      "_________________________________________________________________\n",
      "conv_dw_11_bn (BatchNormaliz (None, 10, 10, 512)       2048      \n",
      "_________________________________________________________________\n",
      "conv_dw_11_relu (Activation) (None, 10, 10, 512)       0         \n",
      "_________________________________________________________________\n",
      "conv_pw_11 (Conv2D)          (None, 10, 10, 512)       262144    \n",
      "_________________________________________________________________\n",
      "conv_pw_11_bn (BatchNormaliz (None, 10, 10, 512)       2048      \n",
      "_________________________________________________________________\n",
      "conv_pw_11_relu (Activation) (None, 10, 10, 512)       0         \n",
      "_________________________________________________________________\n",
      "conv_pad_12 (ZeroPadding2D)  (None, 12, 12, 512)       0         \n",
      "_________________________________________________________________\n",
      "conv_dw_12 (DepthwiseConv2D) (None, 5, 5, 512)         4608      \n",
      "_________________________________________________________________\n",
      "conv_dw_12_bn (BatchNormaliz (None, 5, 5, 512)         2048      \n",
      "_________________________________________________________________\n",
      "conv_dw_12_relu (Activation) (None, 5, 5, 512)         0         \n",
      "_________________________________________________________________\n",
      "conv_pw_12 (Conv2D)          (None, 5, 5, 1024)        524288    \n",
      "_________________________________________________________________\n",
      "conv_pw_12_bn (BatchNormaliz (None, 5, 5, 1024)        4096      \n",
      "_________________________________________________________________\n",
      "conv_pw_12_relu (Activation) (None, 5, 5, 1024)        0         \n",
      "_________________________________________________________________\n",
      "conv_pad_13 (ZeroPadding2D)  (None, 7, 7, 1024)        0         \n",
      "_________________________________________________________________\n",
      "conv_dw_13 (DepthwiseConv2D) (None, 5, 5, 1024)        9216      \n",
      "_________________________________________________________________\n",
      "conv_dw_13_bn (BatchNormaliz (None, 5, 5, 1024)        4096      \n",
      "_________________________________________________________________\n",
      "conv_dw_13_relu (Activation) (None, 5, 5, 1024)        0         \n",
      "_________________________________________________________________\n",
      "conv_pw_13 (Conv2D)          (None, 5, 5, 1024)        1048576   \n",
      "_________________________________________________________________\n",
      "conv_pw_13_bn (BatchNormaliz (None, 5, 5, 1024)        4096      \n",
      "_________________________________________________________________\n",
      "conv_pw_13_relu (Activation) (None, 5, 5, 1024)        0         \n",
      "=================================================================\n",
      "Total params: 3,228,864\n",
      "Trainable params: 3,206,976\n",
      "Non-trainable params: 21,888\n",
      "_________________________________________________________________\n"
     ]
    }
   ],
   "source": [
    "from keras.applications import MobileNet\n",
    "\n",
    "image_height = image_width = 160 # pixels (alternatively 224)\n",
    "channels = 3 # RGB\n",
    "\n",
    "featurizer = MobileNet(input_shape=(image_height, image_width, channels),\n",
    "                       include_top=False) # drop the classifier part\n",
    "featurizer.summary()"
   ]
  },
  {
   "cell_type": "code",
   "execution_count": 6,
   "metadata": {},
   "outputs": [
    {
     "name": "stdout",
     "output_type": "stream",
     "text": [
      "(150, 5, 5, 1024)\n"
     ]
    }
   ],
   "source": [
    "X_train_features = featurizer.predict(X_train)\n",
    "print(X_train_features.shape)"
   ]
  },
  {
   "cell_type": "code",
   "execution_count": 7,
   "metadata": {},
   "outputs": [
    {
     "name": "stdout",
     "output_type": "stream",
     "text": [
      "_________________________________________________________________\n",
      "Layer (type)                 Output Shape              Param #   \n",
      "=================================================================\n",
      "flatten_1 (Flatten)          (None, 25600)             0         \n",
      "_________________________________________________________________\n",
      "dense_1 (Dense)              (None, 64)                1638464   \n",
      "_________________________________________________________________\n",
      "dropout_1 (Dropout)          (None, 64)                0         \n",
      "_________________________________________________________________\n",
      "dense_2 (Dense)              (None, 3)                 195       \n",
      "=================================================================\n",
      "Total params: 1,638,659\n",
      "Trainable params: 1,638,659\n",
      "Non-trainable params: 0\n",
      "_________________________________________________________________\n"
     ]
    }
   ],
   "source": [
    "# 2. fit classifier using features and labels (y_train)\n",
    "from keras.models import Sequential\n",
    "from keras.layers import Dense, Dropout, Flatten\n",
    "\n",
    "classifier = Sequential()\n",
    "classifier.add(Flatten(input_shape=X_train_features.shape[1:])) # 5,5,1024 -> 5*5*1024\n",
    "\n",
    "classifier.add(Dense(64, activation='relu')) # first fully-connected layer\n",
    "\n",
    "classifier.add(Dropout(0.5)) # to prevent overfitting, randomly drop some nodes\n",
    "\n",
    "# 3 classes! softmax: 0-1, multi-class, probability\n",
    "# 2 classes? sigmoid\n",
    "# 195 = 64 (input) * 3 (output) + 3 (bias)\n",
    "classifier.add(Dense(3, activation='softmax')) # second fully-connected layer\n",
    "\n",
    "classifier.summary()"
   ]
  },
  {
   "cell_type": "code",
   "execution_count": 8,
   "metadata": {},
   "outputs": [
    {
     "name": "stdout",
     "output_type": "stream",
     "text": [
      "Train on 135 samples, validate on 15 samples\n",
      "Epoch 1/50\n",
      "135/135 [==============================] - 1s 7ms/step - loss: 4.4689 - acc: 0.4444 - val_loss: 4.8645 - val_acc: 0.4667\n",
      "Epoch 2/50\n",
      "135/135 [==============================] - 0s 1ms/step - loss: 6.0378 - acc: 0.4889 - val_loss: 6.9721 - val_acc: 0.4667\n",
      "Epoch 3/50\n",
      "135/135 [==============================] - 0s 1ms/step - loss: 5.1534 - acc: 0.6148 - val_loss: 5.7769 - val_acc: 0.4667\n"
     ]
    },
    {
     "data": {
      "text/plain": [
       "<keras.callbacks.History at 0x1a5aebf0f98>"
      ]
     },
     "execution_count": 8,
     "metadata": {},
     "output_type": "execute_result"
    }
   ],
   "source": [
    "from keras.optimizers import Adam\n",
    "from keras.callbacks import TensorBoard, EarlyStopping\n",
    "import time\n",
    "\n",
    "# Keras training\n",
    "# compile\n",
    "classifier.compile(Adam(), loss='categorical_crossentropy', metrics=['accuracy'])\n",
    "\n",
    "# setup callbacks (optional): tensorboard, early stopping, model checkpoint\n",
    "tensorboard = TensorBoard(log_dir='logs/classifier/%d' % time.time())\n",
    "earlystop = EarlyStopping(patience=2)\n",
    "\n",
    "# fit\n",
    "classifier.fit(X_train_features, Y_train, epochs=50,\n",
    "               callbacks=[tensorboard, earlystop],\n",
    "               validation_split=0.1)"
   ]
  },
  {
   "cell_type": "code",
   "execution_count": 9,
   "metadata": {},
   "outputs": [],
   "source": [
    "# save classifier weights and structure\n",
    "classifier.save(filepath='MobileNetclassifier.hdf5')"
   ]
  },
  {
   "cell_type": "markdown",
   "metadata": {},
   "source": [
    "# Section B (Classifiers without PCA)"
   ]
  },
  {
   "cell_type": "code",
   "execution_count": 10,
   "metadata": {},
   "outputs": [
    {
     "data": {
      "text/plain": [
       "array([[1., 0., 0.],\n",
       "       [1., 0., 0.],\n",
       "       [1., 0., 0.],\n",
       "       [1., 0., 0.],\n",
       "       [1., 0., 0.],\n",
       "       [0., 0., 1.],\n",
       "       [0., 0., 1.],\n",
       "       [1., 0., 0.],\n",
       "       [1., 0., 0.],\n",
       "       [0., 0., 1.],\n",
       "       [0., 0., 1.],\n",
       "       [0., 0., 1.],\n",
       "       [0., 0., 1.],\n",
       "       [0., 0., 1.],\n",
       "       [0., 0., 1.],\n",
       "       [0., 0., 1.],\n",
       "       [0., 0., 1.],\n",
       "       [1., 0., 0.],\n",
       "       [0., 0., 1.],\n",
       "       [0., 0., 1.],\n",
       "       [1., 0., 0.],\n",
       "       [0., 1., 0.],\n",
       "       [1., 0., 0.],\n",
       "       [0., 1., 0.],\n",
       "       [0., 0., 1.],\n",
       "       [0., 0., 1.],\n",
       "       [0., 0., 1.],\n",
       "       [1., 0., 0.],\n",
       "       [0., 1., 0.],\n",
       "       [0., 0., 1.],\n",
       "       [0., 0., 1.],\n",
       "       [0., 1., 0.],\n",
       "       [1., 0., 0.],\n",
       "       [0., 1., 0.],\n",
       "       [0., 0., 1.],\n",
       "       [0., 0., 1.],\n",
       "       [0., 0., 1.],\n",
       "       [1., 0., 0.],\n",
       "       [1., 0., 0.],\n",
       "       [0., 1., 0.],\n",
       "       [0., 1., 0.],\n",
       "       [0., 0., 1.],\n",
       "       [1., 0., 0.],\n",
       "       [0., 1., 0.],\n",
       "       [0., 1., 0.],\n",
       "       [0., 0., 1.],\n",
       "       [0., 0., 1.],\n",
       "       [0., 0., 1.],\n",
       "       [0., 1., 0.],\n",
       "       [1., 0., 0.],\n",
       "       [0., 0., 1.],\n",
       "       [0., 0., 1.],\n",
       "       [0., 0., 1.],\n",
       "       [0., 0., 1.],\n",
       "       [1., 0., 0.],\n",
       "       [0., 0., 1.],\n",
       "       [1., 0., 0.],\n",
       "       [0., 0., 1.],\n",
       "       [0., 1., 0.],\n",
       "       [0., 0., 1.],\n",
       "       [0., 0., 1.],\n",
       "       [0., 0., 1.],\n",
       "       [0., 0., 1.],\n",
       "       [0., 1., 0.],\n",
       "       [0., 0., 1.],\n",
       "       [0., 0., 1.],\n",
       "       [0., 0., 1.],\n",
       "       [0., 0., 1.],\n",
       "       [1., 0., 0.],\n",
       "       [0., 1., 0.],\n",
       "       [1., 0., 0.],\n",
       "       [0., 1., 0.],\n",
       "       [0., 1., 0.],\n",
       "       [0., 0., 1.],\n",
       "       [0., 1., 0.],\n",
       "       [0., 1., 0.],\n",
       "       [1., 0., 0.],\n",
       "       [1., 0., 0.],\n",
       "       [0., 0., 1.],\n",
       "       [0., 0., 1.],\n",
       "       [1., 0., 0.],\n",
       "       [0., 1., 0.],\n",
       "       [0., 0., 1.],\n",
       "       [0., 1., 0.],\n",
       "       [0., 1., 0.],\n",
       "       [0., 0., 1.],\n",
       "       [0., 0., 1.],\n",
       "       [0., 0., 1.],\n",
       "       [0., 1., 0.],\n",
       "       [0., 0., 1.],\n",
       "       [0., 0., 1.],\n",
       "       [0., 0., 1.],\n",
       "       [0., 1., 0.],\n",
       "       [1., 0., 0.],\n",
       "       [0., 0., 1.],\n",
       "       [1., 0., 0.],\n",
       "       [0., 0., 1.],\n",
       "       [1., 0., 0.],\n",
       "       [0., 0., 1.],\n",
       "       [0., 0., 1.],\n",
       "       [0., 0., 1.],\n",
       "       [0., 0., 1.],\n",
       "       [1., 0., 0.],\n",
       "       [0., 1., 0.],\n",
       "       [0., 0., 1.],\n",
       "       [0., 0., 1.],\n",
       "       [0., 0., 1.],\n",
       "       [0., 0., 1.],\n",
       "       [1., 0., 0.],\n",
       "       [1., 0., 0.],\n",
       "       [0., 0., 1.],\n",
       "       [0., 0., 1.],\n",
       "       [0., 0., 1.],\n",
       "       [1., 0., 0.],\n",
       "       [1., 0., 0.],\n",
       "       [0., 0., 1.],\n",
       "       [0., 0., 1.],\n",
       "       [0., 0., 1.],\n",
       "       [0., 0., 1.],\n",
       "       [1., 0., 0.],\n",
       "       [1., 0., 0.],\n",
       "       [0., 0., 1.],\n",
       "       [0., 0., 1.],\n",
       "       [0., 0., 1.],\n",
       "       [0., 0., 1.],\n",
       "       [0., 0., 1.],\n",
       "       [0., 0., 1.],\n",
       "       [0., 1., 0.],\n",
       "       [0., 1., 0.],\n",
       "       [0., 0., 1.],\n",
       "       [0., 0., 1.],\n",
       "       [0., 1., 0.],\n",
       "       [0., 0., 1.],\n",
       "       [0., 0., 1.],\n",
       "       [1., 0., 0.],\n",
       "       [1., 0., 0.],\n",
       "       [0., 0., 1.],\n",
       "       [0., 0., 1.],\n",
       "       [0., 0., 1.],\n",
       "       [0., 1., 0.],\n",
       "       [0., 0., 1.],\n",
       "       [1., 0., 0.],\n",
       "       [1., 0., 0.],\n",
       "       [1., 0., 0.],\n",
       "       [0., 0., 1.],\n",
       "       [1., 0., 0.],\n",
       "       [0., 1., 0.],\n",
       "       [0., 0., 1.],\n",
       "       [0., 1., 0.],\n",
       "       [0., 0., 1.]], dtype=float32)"
      ]
     },
     "execution_count": 10,
     "metadata": {},
     "output_type": "execute_result"
    }
   ],
   "source": [
    "Y_train"
   ]
  },
  {
   "cell_type": "code",
   "execution_count": 11,
   "metadata": {},
   "outputs": [
    {
     "name": "stdout",
     "output_type": "stream",
     "text": [
      "<class 'sklearn.dummy.DummyClassifier'>\n",
      "Wall time: 0 ns\n",
      "             precision    recall  f1-score   support\n",
      "\n",
      "          0       0.54      0.37      0.44        19\n",
      "          1       0.00      0.00      0.00        11\n",
      "          2       0.31      0.45      0.37        20\n",
      "\n",
      "avg / total       0.33      0.32      0.31        50\n",
      "\n",
      "<class 'sklearn.linear_model.logistic.LogisticRegression'>\n",
      "Wall time: 4.51 s\n",
      "             precision    recall  f1-score   support\n",
      "\n",
      "          0       0.86      0.32      0.46        19\n",
      "          1       0.75      0.27      0.40        11\n",
      "          2       0.51      1.00      0.68        20\n",
      "\n",
      "avg / total       0.70      0.58      0.53        50\n",
      "\n",
      "<class 'sklearn.linear_model.stochastic_gradient.SGDClassifier'>\n",
      "Wall time: 421 ms\n",
      "             precision    recall  f1-score   support\n",
      "\n",
      "          0       0.80      0.63      0.71        19\n",
      "          1       1.00      0.18      0.31        11\n",
      "          2       0.58      0.95      0.72        20\n",
      "\n",
      "avg / total       0.75      0.66      0.62        50\n",
      "\n",
      "<class 'sklearn.tree.tree.DecisionTreeClassifier'>\n",
      "Wall time: 2.26 s\n",
      "             precision    recall  f1-score   support\n",
      "\n",
      "          0       0.87      0.68      0.76        19\n",
      "          1       0.47      0.64      0.54        11\n",
      "          2       0.90      0.90      0.90        20\n",
      "\n",
      "avg / total       0.79      0.76      0.77        50\n",
      "\n",
      "<class 'sklearn.neighbors.classification.KNeighborsClassifier'>\n",
      "Wall time: 259 ms\n",
      "             precision    recall  f1-score   support\n",
      "\n",
      "          0       0.78      0.74      0.76        19\n",
      "          1       1.00      0.09      0.17        11\n",
      "          2       0.65      1.00      0.78        20\n",
      "\n",
      "avg / total       0.77      0.70      0.64        50\n",
      "\n"
     ]
    }
   ],
   "source": [
    "from sklearn.dummy import DummyClassifier\n",
    "from sklearn.linear_model import LogisticRegression, SGDClassifier\n",
    "from sklearn.tree import DecisionTreeClassifier\n",
    "#from sklearn.neural_network import MLPClassifier\n",
    "from sklearn.neighbors import KNeighborsClassifier\n",
    "\n",
    "# Can't deal with sparse matrices (memory intensive):\n",
    "# - Naive Bayes\n",
    "\n",
    "from sklearn.metrics import classification_report\n",
    "#(X_train, X_test, Y_train, Y_test) = train_test_split(X_dataset, y_dataset , random_state=42)\n",
    "X_trainreshape = X_train.reshape(150,160*160*3)\n",
    "X_testreshape = X_test.reshape(50,160*160*3)\n",
    "y_train_labels = Y_train.argmax(axis=1) # one-hot -> labels\n",
    "y_test_labels = Y_test.argmax(axis=1) # one-hot -> labels\n",
    "\n",
    "classifiers = [\n",
    "    DummyClassifier(random_state=42),\n",
    "    LogisticRegression(random_state=42),\n",
    "    SGDClassifier(tol=1e-3, max_iter=1000, random_state=42),\n",
    "    DecisionTreeClassifier(random_state=42),\n",
    "    #MLPClassifier(random_state=42), # slow and not so good...\n",
    "    KNeighborsClassifier()    \n",
    "]\n",
    "\n",
    "for clf in classifiers:\n",
    "    print(type(clf))\n",
    "    %time clf.fit(X_trainreshape, y_train_labels)\n",
    "    pred = clf.predict(X_testreshape)\n",
    "    print(classification_report(y_test_labels, pred))"
   ]
  },
  {
   "cell_type": "markdown",
   "metadata": {},
   "source": [
    "# Section C (Classifiers with PCA)"
   ]
  },
  {
   "cell_type": "code",
   "execution_count": 14,
   "metadata": {},
   "outputs": [
    {
     "name": "stdout",
     "output_type": "stream",
     "text": [
      "50 : 0.5811746\n",
      "100 : 0.8197585\n",
      "150 : 0.9999999\n",
      "200 : 0.9999999\n",
      "250 : 0.9999999\n",
      "300 : 0.9999999\n",
      "350 : 0.9999999\n",
      "400 : 0.9999999\n",
      "450 : 0.9999999\n",
      "500 : 0.9999999\n",
      "550 : 0.9999999\n",
      "600 : 0.9999999\n",
      "650 : 0.9999999\n",
      "700 : 0.9999999\n",
      "750 : 0.9999999\n",
      "800 : 0.9999999\n",
      "850 : 0.9999999\n",
      "900 : 0.9999999\n",
      "950 : 0.9999999\n"
     ]
    },
    {
     "data": {
      "image/png": "[encoded data removed]",
      "text/plain": [
       "<Figure size 432x288 with 1 Axes>"
      ]
     },
     "metadata": {},
     "output_type": "display_data"
    }
   ],
   "source": [
    "#Identify the number of components for extracting the features\n",
    "from sklearn.decomposition import PCA\n",
    "\n",
    "components = range(50, 1000, 50)\n",
    "evrs = []\n",
    "\n",
    "for n in components:\n",
    "    pca_temp = PCA(n_components=n)\n",
    "    pca_temp.fit(X_trainreshape) # notice that PCA is unsupervised\n",
    "\n",
    "    # compute sum of ratios (e.g. 0.95, etc)\n",
    "    evr = np.sum(pca_temp.explained_variance_ratio_)\n",
    "    evrs.append(evr)\n",
    "    print(n, ':', evr)\n",
    "    \n",
    "fig, ax = plt.subplots()\n",
    "ax.plot(components, evrs, marker='o')\n",
    "ax.set(xlabel='n_components', ylabel='sum(explained variance ratio)')\n",
    "plt.show()"
   ]
  },
  {
   "cell_type": "code",
   "execution_count": 23,
   "metadata": {},
   "outputs": [
    {
     "name": "stdout",
     "output_type": "stream",
     "text": [
      "<class 'sklearn.dummy.DummyClassifier'>\n",
      "Wall time: 998 µs\n",
      "             precision    recall  f1-score   support\n",
      "\n",
      "          0       0.54      0.37      0.44        19\n",
      "          1       0.00      0.00      0.00        11\n",
      "          2       0.31      0.45      0.37        20\n",
      "\n",
      "avg / total       0.33      0.32      0.31        50\n",
      "\n",
      "<class 'sklearn.linear_model.logistic.LogisticRegression'>\n",
      "Wall time: 11 ms\n",
      "             precision    recall  f1-score   support\n",
      "\n",
      "          0       0.88      0.79      0.83        19\n",
      "          1       0.60      0.55      0.57        11\n",
      "          2       0.87      1.00      0.93        20\n",
      "\n",
      "avg / total       0.82      0.82      0.81        50\n",
      "\n",
      "<class 'sklearn.linear_model.stochastic_gradient.SGDClassifier'>\n",
      "Wall time: 1.99 ms\n",
      "             precision    recall  f1-score   support\n",
      "\n",
      "          0       0.83      0.79      0.81        19\n",
      "          1       0.60      0.55      0.57        11\n",
      "          2       0.91      1.00      0.95        20\n",
      "\n",
      "avg / total       0.81      0.82      0.81        50\n",
      "\n",
      "<class 'sklearn.tree.tree.DecisionTreeClassifier'>\n",
      "Wall time: 11 ms\n",
      "             precision    recall  f1-score   support\n",
      "\n",
      "          0       0.92      0.63      0.75        19\n",
      "          1       0.33      0.36      0.35        11\n",
      "          2       0.76      0.95      0.84        20\n",
      "\n",
      "avg / total       0.73      0.70      0.70        50\n",
      "\n",
      "<class 'sklearn.neighbors.classification.KNeighborsClassifier'>\n",
      "Wall time: 2 ms\n",
      "             precision    recall  f1-score   support\n",
      "\n",
      "          0       0.78      0.74      0.76        19\n",
      "          1       1.00      0.09      0.17        11\n",
      "          2       0.65      1.00      0.78        20\n",
      "\n",
      "avg / total       0.77      0.70      0.64        50\n",
      "\n"
     ]
    }
   ],
   "source": [
    "# fit using training set\n",
    "pca = PCA(n_components=150)\n",
    "X_trainreshape_150d = pca.fit_transform(X_trainreshape) # compute eigenvectors / eigenvalues\n",
    "X_testreshape_150d = pca.transform(X_testreshape)\n",
    "\n",
    "#y_train_labels = Y_train.argmax(axis=1) # one-hot -> labels\n",
    "#y_test_labels = Y_test.argmax(axis=1) # one-hot -> labels\n",
    "\n",
    "classifiers_150dPCA = [\n",
    "    DummyClassifier(random_state=42),\n",
    "    LogisticRegression(random_state=42),\n",
    "    SGDClassifier(tol=1e-3, max_iter=1000, random_state=42),\n",
    "    DecisionTreeClassifier(random_state=42),\n",
    "    #MLPClassifier(random_state=42), # slow and not so good...\n",
    "    KNeighborsClassifier()    \n",
    "]\n",
    "\n",
    "for clf in classifiers_150dPCA:\n",
    "    print(type(clf))\n",
    "    %time clf.fit(X_trainreshape_150d, y_train_labels)\n",
    "    pred = clf.predict(X_testreshape_150d)\n",
    "    print(classification_report(y_test_labels, pred))"
   ]
  },
  {
   "cell_type": "code",
   "execution_count": null,
   "metadata": {},
   "outputs": [],
   "source": []
  },
  {
   "cell_type": "markdown",
   "metadata": {},
   "source": [
    "## Section 6: Evaluate metrics\n",
    "\n",
    "Write your code below to evaluate metrics for the trained algorithm(s).\n",
    "\n",
    "Feel free to plot the algorithm to visualize it, as appropriately."
   ]
  },
  {
   "cell_type": "markdown",
   "metadata": {},
   "source": [
    "# Section A (MobileNet)"
   ]
  },
  {
   "cell_type": "code",
   "execution_count": 25,
   "metadata": {},
   "outputs": [
    {
     "name": "stdout",
     "output_type": "stream",
     "text": [
      "             precision    recall  f1-score   support\n",
      "\n",
      "          0       0.00      0.00      0.00        19\n",
      "          1       0.00      0.00      0.00        11\n",
      "          2       0.42      1.00      0.59        20\n",
      "\n",
      "avg / total       0.17      0.40      0.24        50\n",
      "\n",
      "[[ 0  0 19]\n",
      " [ 2  0  9]\n",
      " [ 0  0 20]]\n"
     ]
    },
    {
     "name": "stderr",
     "output_type": "stream",
     "text": [
      "C:\\Users\\ChenJ\\AppData\\Local\\Continuum\\anaconda3\\envs\\mldds03\\lib\\site-packages\\sklearn\\metrics\\classification.py:1135: UndefinedMetricWarning: Precision and F-score are ill-defined and being set to 0.0 in labels with no predicted samples.\n",
      "  'precision', 'predicted', average, warn_for)\n"
     ]
    }
   ],
   "source": [
    "from sklearn.metrics import classification_report, confusion_matrix\n",
    "\n",
    "X_test_features = featurizer.predict(X_test) # get features\n",
    "\n",
    "y_pred = classifier.predict(X_test_features) # call classifier\n",
    "\n",
    "y_test_labels = Y_test.argmax(axis=1) # one-hot -> labels\n",
    "y_pred_labels = y_pred.argmax(axis=1) # one-hot -> labels\n",
    "# print(classifier.predict_classes(X_test_features)) # also returns labels\n",
    "\n",
    "print(classification_report(y_test_labels, y_pred_labels))\n",
    "print(confusion_matrix(y_test_labels, y_pred_labels))"
   ]
  },
  {
   "cell_type": "code",
   "execution_count": 26,
   "metadata": {},
   "outputs": [
    {
     "data": {
      "image/png": "[encoded data removed]",
      "text/plain": [
       "<Figure size 576x576 with 2 Axes>"
      ]
     },
     "metadata": {},
     "output_type": "display_data"
    }
   ],
   "source": [
    "import seaborn as sns\n",
    "cm = confusion_matrix(y_test_labels, y_pred_labels)\n",
    "\n",
    "fig, ax = plt.subplots(figsize=(8, 8))\n",
    "\n",
    "# https://seaborn.pydata.org/generated/seaborn.heatmap.html#seaborn.heatmap\n",
    "sns.heatmap(cm, annot=True, ax=ax, fmt='d')\n",
    "ax.set(xlabel='Predicted labels', ylabel='True labels', title='Confusion Matrix (MobileNet)') \n",
    "ax.xaxis.set_ticklabels(['Background Image defect', 'General defect', 'Good Images'])\n",
    "ax.yaxis.set_ticklabels(['Background Image defect', 'General defect', 'Good Images'])\n",
    "plt.show()\n",
    "\n",
    "#labels = np.array([[0, 'Background Image defect'], [1, 'General defect'],\n",
    "#          [2, 'Good Images']])\n",
    "\n",
    "#fig, ax = plt.subplots()\n",
    "# annotate cells with ticks\n",
    "#sns.heatmap(cm, annot=True, ax=ax[0])\n",
    "\n",
    "#tick_labels = labels[:, 0]\n",
    "\n",
    "# https://seaborn.pydata.org/generated/seaborn.heatmap.html#seaborn.heatmap\n",
    "#ax[0].set(xlabel='Predicted labels', ylabel='True labels', title='Confusion Matrix (MobileNet)') \n",
    "#ax[0].xaxis.set_ticklabels(tick_labels)\n",
    "#ax[0].yaxis.set_ticklabels(tick_labels)\n",
    "\n",
    "plt.show()"
   ]
  },
  {
   "cell_type": "markdown",
   "metadata": {},
   "source": [
    "# Section B (Other classifiers without PCA)"
   ]
  },
  {
   "cell_type": "code",
   "execution_count": 27,
   "metadata": {},
   "outputs": [
    {
     "data": {
      "text/plain": [
       "array([2, 1, 0, 2, 1, 2, 0, 1, 0, 1, 0, 1, 2, 2, 2, 1, 0, 2, 2, 0, 0, 1,\n",
       "       2, 0, 1, 2, 2, 1, 2, 0, 2, 2, 0, 1, 2, 0, 0, 0, 0, 2, 2, 0, 0, 2,\n",
       "       0, 0, 0, 1, 2, 2], dtype=int64)"
      ]
     },
     "execution_count": 27,
     "metadata": {},
     "output_type": "execute_result"
    }
   ],
   "source": [
    "y_test_labels"
   ]
  },
  {
   "cell_type": "code",
   "execution_count": 33,
   "metadata": {},
   "outputs": [
    {
     "name": "stdout",
     "output_type": "stream",
     "text": [
      "<class 'sklearn.dummy.DummyClassifier'>\n",
      "Wall time: 0 ns\n",
      "             precision    recall  f1-score   support\n",
      "\n",
      "          0       0.54      0.37      0.44        19\n",
      "          1       0.00      0.00      0.00        11\n",
      "          2       0.31      0.45      0.37        20\n",
      "\n",
      "avg / total       0.33      0.32      0.31        50\n",
      "\n"
     ]
    },
    {
     "data": {
      "image/png": "[encoded data removed]",
      "text/plain": [
       "<Figure size 576x576 with 2 Axes>"
      ]
     },
     "metadata": {},
     "output_type": "display_data"
    },
    {
     "name": "stdout",
     "output_type": "stream",
     "text": [
      "<class 'sklearn.linear_model.logistic.LogisticRegression'>\n",
      "Wall time: 4.78 s\n",
      "             precision    recall  f1-score   support\n",
      "\n",
      "          0       0.86      0.32      0.46        19\n",
      "          1       0.75      0.27      0.40        11\n",
      "          2       0.51      1.00      0.68        20\n",
      "\n",
      "avg / total       0.70      0.58      0.53        50\n",
      "\n"
     ]
    },
    {
     "data": {
      "image/png": "[encoded data removed]",
      "text/plain": [
       "<Figure size 576x576 with 2 Axes>"
      ]
     },
     "metadata": {},
     "output_type": "display_data"
    },
    {
     "name": "stdout",
     "output_type": "stream",
     "text": [
      "<class 'sklearn.linear_model.stochastic_gradient.SGDClassifier'>\n",
      "Wall time: 437 ms\n",
      "             precision    recall  f1-score   support\n",
      "\n",
      "          0       0.80      0.63      0.71        19\n",
      "          1       1.00      0.18      0.31        11\n",
      "          2       0.58      0.95      0.72        20\n",
      "\n",
      "avg / total       0.75      0.66      0.62        50\n",
      "\n"
     ]
    },
    {
     "data": {
      "image/png": "[encoded data removed]",
      "text/plain": [
       "<Figure size 576x576 with 2 Axes>"
      ]
     },
     "metadata": {},
     "output_type": "display_data"
    },
    {
     "name": "stdout",
     "output_type": "stream",
     "text": [
      "<class 'sklearn.tree.tree.DecisionTreeClassifier'>\n",
      "Wall time: 2.16 s\n",
      "             precision    recall  f1-score   support\n",
      "\n",
      "          0       0.87      0.68      0.76        19\n",
      "          1       0.47      0.64      0.54        11\n",
      "          2       0.90      0.90      0.90        20\n",
      "\n",
      "avg / total       0.79      0.76      0.77        50\n",
      "\n"
     ]
    },
    {
     "data": {
      "image/png": "[encoded data removed]",
      "text/plain": [
       "<Figure size 576x576 with 2 Axes>"
      ]
     },
     "metadata": {},
     "output_type": "display_data"
    },
    {
     "name": "stdout",
     "output_type": "stream",
     "text": [
      "<class 'sklearn.neighbors.classification.KNeighborsClassifier'>\n",
      "Wall time: 269 ms\n",
      "             precision    recall  f1-score   support\n",
      "\n",
      "          0       0.78      0.74      0.76        19\n",
      "          1       1.00      0.09      0.17        11\n",
      "          2       0.65      1.00      0.78        20\n",
      "\n",
      "avg / total       0.77      0.70      0.64        50\n",
      "\n"
     ]
    },
    {
     "data": {
      "image/png": "[encoded data removed]",
      "text/plain": [
       "<Figure size 576x576 with 2 Axes>"
      ]
     },
     "metadata": {},
     "output_type": "display_data"
    }
   ],
   "source": [
    "import seaborn as sns\n",
    "#preds = []\n",
    "\n",
    "for clf in classifiers:\n",
    "    print(type(clf))\n",
    "    %time clf.fit(X_trainreshape, y_train_labels)\n",
    "    pred = clf.predict(X_testreshape)\n",
    "    #preds.append(pred)\n",
    "    \n",
    "    print(classification_report(y_test_labels, pred))\n",
    "    cm = confusion_matrix(y_test_labels, pred)\n",
    "\n",
    "    fig, ax = plt.subplots(figsize=(8, 8))\n",
    "\n",
    "    # https://seaborn.pydata.org/generated/seaborn.heatmap.html#seaborn.heatmap\n",
    "    sns.heatmap(cm, annot=True, ax=ax, fmt='d')\n",
    "    ax.set(xlabel='Predicted labels', ylabel='True labels', title='Confusion Matrix %s' % clf.__class__) \n",
    "    ax.xaxis.set_ticklabels(['Background Image defect', 'General defect', 'Good Images'])\n",
    "    ax.yaxis.set_ticklabels(['Background Image defect', 'General defect', 'Good Images'])\n",
    "    plt.show()"
   ]
  },
  {
   "cell_type": "code",
   "execution_count": 53,
   "metadata": {},
   "outputs": [
    {
     "ename": "AttributeError",
     "evalue": "'DecisionTreeClassifier' object has no attribute 'decision_function'",
     "output_type": "error",
     "traceback": [
      "\u001b[1;31m---------------------------------------------------------------------------\u001b[0m",
      "\u001b[1;31mAttributeError\u001b[0m                            Traceback (most recent call last)",
      "\u001b[1;32m<ipython-input-53-3498225bc8d3>\u001b[0m in \u001b[0;36m<module>\u001b[1;34m()\u001b[0m\n\u001b[0;32m      9\u001b[0m \u001b[1;31m#    pred = clf.predict(X_testreshape)\u001b[0m\u001b[1;33m\u001b[0m\u001b[1;33m\u001b[0m\u001b[0m\n\u001b[0;32m     10\u001b[0m     \u001b[1;31m#preds.append(pred)\u001b[0m\u001b[1;33m\u001b[0m\u001b[1;33m\u001b[0m\u001b[0m\n\u001b[1;32m---> 11\u001b[1;33m     \u001b[0my_score\u001b[0m \u001b[1;33m=\u001b[0m \u001b[0mclassifiers\u001b[0m\u001b[1;33m[\u001b[0m\u001b[0mx\u001b[0m\u001b[1;33m+\u001b[0m\u001b[1;36m1\u001b[0m\u001b[1;33m]\u001b[0m\u001b[1;33m.\u001b[0m\u001b[0mdecision_function\u001b[0m\u001b[1;33m(\u001b[0m\u001b[0mX_testreshape\u001b[0m\u001b[1;33m)\u001b[0m\u001b[1;33m\u001b[0m\u001b[0m\n\u001b[0m\u001b[0;32m     12\u001b[0m     \u001b[0my_scores\u001b[0m\u001b[1;33m.\u001b[0m\u001b[0mappend\u001b[0m\u001b[1;33m(\u001b[0m\u001b[0my_score\u001b[0m\u001b[1;33m)\u001b[0m\u001b[1;33m\u001b[0m\u001b[0m\n\u001b[0;32m     13\u001b[0m \u001b[1;33m\u001b[0m\u001b[0m\n",
      "\u001b[1;31mAttributeError\u001b[0m: 'DecisionTreeClassifier' object has no attribute 'decision_function'"
     ]
    }
   ],
   "source": [
    "from sklearn.metrics import roc_curve, auc\n",
    "from sklearn.multiclass import OneVsRestClassifier\n",
    "\n",
    "y_scores = []\n",
    "n_classes = len(y_train_labels)\n",
    "\n",
    "classifiers_150dPCA[0].predict()\n",
    "\n",
    "classifiers_150dPCA_auc = [\n",
    "    DummyClassifier(random_state=42),\n",
    "    LogisticRegression(random_state=42),\n",
    "    SGDClassifier(tol=1e-3, max_iter=1000, random_state=42),\n",
    "    DecisionTreeClassifier(random_state=42),\n",
    "    #MLPClassifier(random_state=42), # slow and not so good...\n",
    "    KNeighborsClassifier()    \n",
    "]\n",
    "\n",
    "# binarize labels \n",
    "\n",
    "for c in classifiers_150dPCA_auc:\n",
    "    clf = OneVsRestClassifier(c)\n",
    "    # fit\n",
    "    \n",
    "    # \n",
    "    if hasattr(clf, 'decision_function'):\n",
    "        y_score = clf.decision_function(X_testreshape) # multiclass (n_samples, n_classes)\n",
    "                                                       # binary (n_samples,)\n",
    "    else:\n",
    "        y_score = clf.predict_proba(X_testreshape)[1]\n",
    "    y_scores.append(y_score)\n",
    "\n",
    "# plot ROC   \n",
    "    \n",
    "for x in range(n_classes):\n",
    "#    print(type(clf))\n",
    "#    %time clf.fit(X_trainreshape, y_train_labels)\n",
    "#    pred = clf.predict(X_testreshape)\n",
    "    #preds.append(pred)\n",
    "    if hasattr(classifiers[x], 'decision_function'):\n",
    "        y_score = classifiers[x].decision_function(X_testreshape)\n",
    "    else:\n",
    "        y_score = classifiers[x].predict_proba(X_testreshape)[1]\n",
    "    y_scores.append(y_score)\n",
    "    \n",
    "# Compute ROC curve and ROC area for each class\n",
    "fpr = dict()\n",
    "tpr = dict()\n",
    "roc_auc = dict()\n",
    "for i in range(n_classes):\n",
    "    fpr[i], tpr[i], _ = roc_curve(y_test_labels[:, i], y_scores[:, i])\n",
    "    roc_auc[i] = auc(fpr[i], tpr[i])\n",
    "\n",
    "# Compute micro-average ROC curve and ROC area\n",
    "#fpr[\"micro\"], tpr[\"micro\"], _ = roc_curve(y_test_labels.ravel(), y_scores.ravel())\n",
    "#roc_auc[\"micro\"] = auc(fpr[\"micro\"], tpr[\"micro\"])"
   ]
  },
  {
   "cell_type": "code",
   "execution_count": 46,
   "metadata": {},
   "outputs": [
    {
     "ename": "ValueError",
     "evalue": "need at least one array to concatenate",
     "output_type": "error",
     "traceback": [
      "\u001b[1;31m---------------------------------------------------------------------------\u001b[0m",
      "\u001b[1;31mValueError\u001b[0m                                Traceback (most recent call last)",
      "\u001b[1;32m<ipython-input-46-5c21c2de8c65>\u001b[0m in \u001b[0;36m<module>\u001b[1;34m()\u001b[0m\n\u001b[0;32m      2\u001b[0m \u001b[1;33m\u001b[0m\u001b[0m\n\u001b[0;32m      3\u001b[0m \u001b[1;31m# First aggregate all false positive rates\u001b[0m\u001b[1;33m\u001b[0m\u001b[1;33m\u001b[0m\u001b[0m\n\u001b[1;32m----> 4\u001b[1;33m \u001b[0mall_fpr\u001b[0m \u001b[1;33m=\u001b[0m \u001b[0mnp\u001b[0m\u001b[1;33m.\u001b[0m\u001b[0munique\u001b[0m\u001b[1;33m(\u001b[0m\u001b[0mnp\u001b[0m\u001b[1;33m.\u001b[0m\u001b[0mconcatenate\u001b[0m\u001b[1;33m(\u001b[0m\u001b[1;33m[\u001b[0m\u001b[0mfpr\u001b[0m\u001b[1;33m[\u001b[0m\u001b[0mi\u001b[0m\u001b[1;33m]\u001b[0m \u001b[1;32mfor\u001b[0m \u001b[0mi\u001b[0m \u001b[1;32min\u001b[0m \u001b[0mrange\u001b[0m\u001b[1;33m(\u001b[0m\u001b[0mn_classes\u001b[0m\u001b[1;33m)\u001b[0m\u001b[1;33m]\u001b[0m\u001b[1;33m)\u001b[0m\u001b[1;33m)\u001b[0m\u001b[1;33m\u001b[0m\u001b[0m\n\u001b[0m\u001b[0;32m      5\u001b[0m \u001b[1;33m\u001b[0m\u001b[0m\n\u001b[0;32m      6\u001b[0m \u001b[1;31m# Then interpolate all ROC curves at this points\u001b[0m\u001b[1;33m\u001b[0m\u001b[1;33m\u001b[0m\u001b[0m\n",
      "\u001b[1;31mValueError\u001b[0m: need at least one array to concatenate"
     ]
    }
   ],
   "source": [
    "# Compute macro-average ROC curve and ROC area\n",
    "\n",
    "# First aggregate all false positive rates\n",
    "all_fpr = np.unique(np.concatenate([fpr[i] for i in range(n_classes)]))\n",
    "\n",
    "# Then interpolate all ROC curves at this points\n",
    "mean_tpr = np.zeros_like(all_fpr)\n",
    "for i in range(n_classes):\n",
    "    mean_tpr += interp(all_fpr, fpr[i], tpr[i])\n",
    "\n",
    "# Finally average it and compute AUC\n",
    "mean_tpr /= n_classes\n",
    "\n",
    "fpr[\"macro\"] = all_fpr\n",
    "tpr[\"macro\"] = mean_tpr\n",
    "roc_auc[\"macro\"] = auc(fpr[\"macro\"], tpr[\"macro\"])\n",
    "\n",
    "# Plot all ROC curves\n",
    "plt.figure()\n",
    "plt.plot(fpr[\"micro\"], tpr[\"micro\"],\n",
    "         label='micro-average ROC curve (area = {0:0.2f})'\n",
    "               ''.format(roc_auc[\"micro\"]),\n",
    "         color='deeppink', linestyle=':', linewidth=4)\n",
    "\n",
    "plt.plot(fpr[\"macro\"], tpr[\"macro\"],\n",
    "         label='macro-average ROC curve (area = {0:0.2f})'\n",
    "               ''.format(roc_auc[\"macro\"]),\n",
    "         color='navy', linestyle=':', linewidth=4)\n",
    "\n",
    "colors = cycle(['aqua', 'darkorange', 'cornflowerblue'])\n",
    "for i, color in zip(range(n_classes), colors):\n",
    "    plt.plot(fpr[i], tpr[i], color=color, lw=lw,\n",
    "             label='ROC curve of class {0} (area = {1:0.2f})'\n",
    "             ''.format(i, roc_auc[i]))\n",
    "\n",
    "plt.plot([0, 1], [0, 1], 'k--', lw=lw)\n",
    "plt.xlim([0.0, 1.0])\n",
    "plt.ylim([0.0, 1.05])\n",
    "plt.xlabel('False Positive Rate')\n",
    "plt.ylabel('True Positive Rate')\n",
    "plt.title('Some extension of Receiver operating characteristic to multi-class')\n",
    "plt.legend(loc=\"lower right\")\n",
    "plt.show()"
   ]
  },
  {
   "cell_type": "code",
   "execution_count": null,
   "metadata": {},
   "outputs": [],
   "source": [
    "# Example of plotting the ROC curves to compare classifiers\n",
    "from sklearn.metrics import roc_curve, auc\n",
    "\n",
    "fig, (ax0, ax1, ax2) = plt.subplots(nrows=3, ncols=1, figsize=(20, 20))\n",
    "\n",
    "#\n",
    "# plot the classifiers\n",
    "#\n",
    "for clf in classifiers:\n",
    "    # some classifiers provide .decision_function(), others provide .predict_proba()\n",
    "    if hasattr(clf, 'decision_function'):\n",
    "        y_confidence = clf.decision_function(X_testreshape)\n",
    "    \n",
    "        # positive label = class 0\n",
    "        fpr0, tpr0, _ = roc_curve(y_test_labels, y_confidence, pos_label=0)\n",
    "\n",
    "        # positive label = class 1\n",
    "        fpr1, tpr1, _ = roc_curve(y_test_labels, y_confidence, pos_label=1)\n",
    "        \n",
    "        # positive label = class 2\n",
    "        fpr2, tpr2, _ = roc_curve(y_test_labels, y_confidence, pos_label=2)\n",
    "    else:\n",
    "        y_confidence = clf.predict_proba(X_testreshape)\n",
    "\n",
    "        # positive label = class 0\n",
    "        fpr0, tpr0, _ = roc_curve(y_test_labels, y_confidence[:, 0], pos_label=0)\n",
    "\n",
    "        # positive label = class 1\n",
    "        fpr1, tpr1, _ = roc_curve(y_test_labels, y_confidence[:, 1], pos_label=1)\n",
    "        \n",
    "        # positive label = class 2\n",
    "        fpr2, tpr2, _ = roc_curve(y_test_labels, y_confidence[:, 2], pos_label=2)\n",
    "\n",
    "    ax1.plot(fpr1, tpr1, label='%s (area = %f)' % (clf.__class__, auc(fpr1, tpr1)))\n",
    "    ax0.plot(fpr0, tpr0, label='%s (area = %f)' % (clf.__class__, auc(fpr0, tpr0)))        \n",
    "    ax2.plot(fpr2, tpr2, label='%s (area = %f)' % (clf.__class__, auc(fpr2, tpr2)))\n",
    "\n",
    "# put the plots together\n",
    "ax0.set(xlabel='false positive rate', ylabel='true positive rate',\n",
    "       title='ROC curves (positive label=\"Background image defect\")')\n",
    "ax0.legend()\n",
    "ax0.grid()\n",
    "\n",
    "ax1.set(xlabel='false positive rate', ylabel='true positive rate',\n",
    "       title='ROC curves (positive label=\"General defect\")')\n",
    "ax1.legend()\n",
    "ax1.grid()\n",
    "\n",
    "ax2.set(xlabel='false positive rate', ylabel='true positive rate',\n",
    "       title='ROC curves (positive label=\"Good Images\")')\n",
    "ax2.legend()\n",
    "ax2.grid()\n",
    "\n",
    "plt.show()"
   ]
  },
  {
   "cell_type": "markdown",
   "metadata": {},
   "source": [
    "# Section C (Other classifiers with PCA)"
   ]
  },
  {
   "cell_type": "code",
   "execution_count": 55,
   "metadata": {},
   "outputs": [
    {
     "name": "stdout",
     "output_type": "stream",
     "text": [
      "<class 'sklearn.dummy.DummyClassifier'>\n",
      "Wall time: 0 ns\n",
      "             precision    recall  f1-score   support\n",
      "\n",
      "          0       0.54      0.37      0.44        19\n",
      "          1       0.00      0.00      0.00        11\n",
      "          2       0.31      0.45      0.37        20\n",
      "\n",
      "avg / total       0.33      0.32      0.31        50\n",
      "\n"
     ]
    },
    {
     "data": {
      "image/png": "[encoded data removed]",
      "text/plain": [
       "<Figure size 576x576 with 2 Axes>"
      ]
     },
     "metadata": {},
     "output_type": "display_data"
    },
    {
     "name": "stdout",
     "output_type": "stream",
     "text": [
      "<class 'sklearn.linear_model.logistic.LogisticRegression'>\n",
      "Wall time: 14 ms\n",
      "             precision    recall  f1-score   support\n",
      "\n",
      "          0       0.88      0.79      0.83        19\n",
      "          1       0.60      0.55      0.57        11\n",
      "          2       0.87      1.00      0.93        20\n",
      "\n",
      "avg / total       0.82      0.82      0.81        50\n",
      "\n"
     ]
    },
    {
     "data": {
      "image/png": "[encoded data removed]",
      "text/plain": [
       "<Figure size 576x576 with 2 Axes>"
      ]
     },
     "metadata": {},
     "output_type": "display_data"
    },
    {
     "name": "stdout",
     "output_type": "stream",
     "text": [
      "<class 'sklearn.linear_model.stochastic_gradient.SGDClassifier'>\n",
      "Wall time: 3 ms\n",
      "             precision    recall  f1-score   support\n",
      "\n",
      "          0       0.83      0.79      0.81        19\n",
      "          1       0.60      0.55      0.57        11\n",
      "          2       0.91      1.00      0.95        20\n",
      "\n",
      "avg / total       0.81      0.82      0.81        50\n",
      "\n"
     ]
    },
    {
     "data": {
      "image/png": "[encoded data removed]",
      "text/plain": [
       "<Figure size 576x576 with 2 Axes>"
      ]
     },
     "metadata": {},
     "output_type": "display_data"
    },
    {
     "name": "stdout",
     "output_type": "stream",
     "text": [
      "<class 'sklearn.tree.tree.DecisionTreeClassifier'>\n",
      "Wall time: 14 ms\n",
      "             precision    recall  f1-score   support\n",
      "\n",
      "          0       0.92      0.63      0.75        19\n",
      "          1       0.33      0.36      0.35        11\n",
      "          2       0.76      0.95      0.84        20\n",
      "\n",
      "avg / total       0.73      0.70      0.70        50\n",
      "\n"
     ]
    },
    {
     "data": {
      "image/png": "[encoded data removed]",
      "text/plain": [
       "<Figure size 576x576 with 2 Axes>"
      ]
     },
     "metadata": {},
     "output_type": "display_data"
    },
    {
     "name": "stdout",
     "output_type": "stream",
     "text": [
      "<class 'sklearn.neighbors.classification.KNeighborsClassifier'>\n",
      "Wall time: 997 µs\n",
      "             precision    recall  f1-score   support\n",
      "\n",
      "          0       0.78      0.74      0.76        19\n",
      "          1       1.00      0.09      0.17        11\n",
      "          2       0.65      1.00      0.78        20\n",
      "\n",
      "avg / total       0.77      0.70      0.64        50\n",
      "\n"
     ]
    },
    {
     "data": {
      "image/png": "[encoded data removed]",
      "text/plain": [
       "<Figure size 576x576 with 2 Axes>"
      ]
     },
     "metadata": {},
     "output_type": "display_data"
    }
   ],
   "source": [
    "for clf2 in classifiers_150dPCA:\n",
    "    print(type(clf2))\n",
    "    %time clf2.fit(X_trainreshape_150d, y_train_labels)\n",
    "    pred = clf2.predict(X_testreshape_150d)\n",
    "    print(classification_report(y_test_labels, pred))\n",
    "    cm = confusion_matrix(y_test_labels, pred)\n",
    "\n",
    "    fig, ax = plt.subplots(figsize=(8, 8))\n",
    "\n",
    "    # https://seaborn.pydata.org/generated/seaborn.heatmap.html#seaborn.heatmap\n",
    "    sns.heatmap(cm, annot=True, ax=ax, fmt='d')\n",
    "    ax.set(xlabel='Predicted labels', ylabel='True labels', title='Confusion Matrix%s' % clf2.__class__) \n",
    "    ax.xaxis.set_ticklabels(['Background Image defect', 'General defect', 'Good Images'])\n",
    "    ax.yaxis.set_ticklabels(['Background Image defect', 'General defect', 'Good Images'])\n",
    "    plt.show()"
   ]
  },
  {
   "cell_type": "markdown",
   "metadata": {},
   "source": [
    "## Section 7: Observations and analysis\n",
    "\n",
    "Answer the following questions:\n",
    "1. How did you measure the algorithm? Specify the metrics you used.\n",
    "\n",
    "2. What is the outcome of the measurement? Explain the interpretation of the metrics.\n",
    "\n",
    "  - Is there overfitting or underfitting?\n",
    "  - Is there low accuracy or high error? If so, why do you think this is the case?\n",
    "\n",
    "3. What improvements do you propose? \n",
    "\n",
    "4. What is the most challenging part of this project?"
   ]
  },
  {
   "cell_type": "markdown",
   "metadata": {},
   "source": [
    "# Outcome\n",
    "- PCA of 150 features with Logistic regression and SGD is the best\n",
    "\n",
    "# Improvements\n",
    "- Get more data for all the different classes\n",
    "\n",
    "# Challenging\n",
    "- Separating of the images into the various classes using manual inspections"
   ]
  },
  {
   "cell_type": "code",
   "execution_count": null,
   "metadata": {},
   "outputs": [],
   "source": []
  }
 ],
 "metadata": {
  "kernelspec": {
   "display_name": "Python 3",
   "language": "python",
   "name": "python3"
  },
  "language_info": {
   "codemirror_mode": {
    "name": "ipython",
    "version": 3
   },
   "file_extension": ".py",
   "mimetype": "text/x-python",
   "name": "python",
   "nbconvert_exporter": "python",
   "pygments_lexer": "ipython3",
   "version": "3.7.4"
  }
 },
 "nbformat": 4,
 "nbformat_minor": 2
}
